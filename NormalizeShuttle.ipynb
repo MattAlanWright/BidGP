{
 "cells": [
  {
   "cell_type": "code",
   "execution_count": 1,
   "metadata": {},
   "outputs": [],
   "source": [
    "from sklearn.model_selection import train_test_split\n",
    "from sklearn.preprocessing import MinMaxScaler"
   ]
  },
  {
   "cell_type": "code",
   "execution_count": 2,
   "metadata": {},
   "outputs": [],
   "source": [
    "import numpy as np\n",
    "import csv\n",
    "\n",
    "def load_statlog():\n",
    "    \n",
    "    train_X = []\n",
    "    train_y = []\n",
    "    test_X  = []\n",
    "    test_y  = []\n",
    "\n",
    "    # Read training data\n",
    "    with open('shuttle.trn') as csvfile:\n",
    "        reader = csv.reader(csvfile, delimiter=' ')\n",
    "        \n",
    "        for row in reader:\n",
    "\n",
    "            features = []\n",
    "            for i in range(len(row) - 1):\n",
    "                features.append(float(row[i]))\n",
    "\n",
    "            label = int(row[-1]) - 1\n",
    "\n",
    "            train_X.append(features)\n",
    "            train_y.append(label)\n",
    "\n",
    "    train_X = np.array(train_X)\n",
    "    train_y = np.array(train_y)\n",
    "    \n",
    "    \n",
    "    # Read test data\n",
    "    with open('shuttle.tst') as csvfile:\n",
    "        reader = csv.reader(csvfile, delimiter=' ')\n",
    "        \n",
    "        for row in reader:\n",
    "\n",
    "            features = []\n",
    "            for i in range(len(row) - 1):\n",
    "                features.append(float(row[i]))\n",
    "\n",
    "            label = int(row[-1]) - 1\n",
    "\n",
    "            test_X.append(features)\n",
    "            test_y.append(label)\n",
    "\n",
    "    test_X = np.array(test_X)\n",
    "    test_y = np.array(test_y)\n",
    "    \n",
    "    return train_X, train_y, test_X, test_y, 9, 7"
   ]
  },
  {
   "cell_type": "code",
   "execution_count": 4,
   "metadata": {},
   "outputs": [],
   "source": [
    "train_X, train_y, test_X, test_y, a, b = load_statlog()"
   ]
  },
  {
   "cell_type": "code",
   "execution_count": 5,
   "metadata": {},
   "outputs": [],
   "source": [
    "# Create the scaler based on the training set\n",
    "scaler = MinMaxScaler()\n",
    "scaler.fit(train_X)\n",
    "\n",
    "# Scale both datesets\n",
    "train_X = scaler.transform(train_X)\n",
    "test_X  = scaler.transform(test_X)"
   ]
  },
  {
   "cell_type": "code",
   "execution_count": 6,
   "metadata": {},
   "outputs": [],
   "source": [
    "# Write training data\n",
    "with open('shuttle-normalized.trn', 'w') as csvfile:\n",
    "    writer = csv.writer(csvfile, delimiter=',')\n",
    "    \n",
    "    for i, x in enumerate(train_X.tolist()):\n",
    "        writer.writerow(x + [train_y[i]])"
   ]
  },
  {
   "cell_type": "code",
   "execution_count": 7,
   "metadata": {},
   "outputs": [],
   "source": [
    "# Write training data\n",
    "with open('shuttle-normalized.tst', 'w') as csvfile:\n",
    "    writer = csv.writer(csvfile, delimiter=',')\n",
    "    \n",
    "    for i, x in enumerate(test_X.tolist()):\n",
    "        writer.writerow(x + [test_y[i]])"
   ]
  },
  {
   "cell_type": "code",
   "execution_count": null,
   "metadata": {},
   "outputs": [],
   "source": []
  }
 ],
 "metadata": {
  "kernelspec": {
   "display_name": "Python 3",
   "language": "python",
   "name": "python3"
  },
  "language_info": {
   "codemirror_mode": {
    "name": "ipython",
    "version": 3
   },
   "file_extension": ".py",
   "mimetype": "text/x-python",
   "name": "python",
   "nbconvert_exporter": "python",
   "pygments_lexer": "ipython3",
   "version": "3.5.2"
  }
 },
 "nbformat": 4,
 "nbformat_minor": 2
}
