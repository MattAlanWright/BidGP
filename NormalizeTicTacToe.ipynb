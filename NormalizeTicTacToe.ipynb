{
 "cells": [
  {
   "cell_type": "code",
   "execution_count": 1,
   "metadata": {},
   "outputs": [],
   "source": [
    "from sklearn.model_selection import train_test_split\n",
    "\n",
    "import numpy as np\n",
    "import csv"
   ]
  },
  {
   "cell_type": "code",
   "execution_count": 2,
   "metadata": {},
   "outputs": [],
   "source": [
    "def load_tic_tac_toe():\n",
    "    \n",
    "    B =  0.0\n",
    "    O = -1.0\n",
    "    X =  1.0\n",
    "    \n",
    "    NEGATIVE = 0\n",
    "    POSITIVE = 1\n",
    "    \n",
    "    FeatureTranslationDict = {\n",
    "        \n",
    "        # Features\n",
    "        'b': B,\n",
    "        'o': O,\n",
    "        'x': X,\n",
    "        \n",
    "        # Labels\n",
    "        'negative': NEGATIVE,\n",
    "        'positive': POSITIVE\n",
    "    }\n",
    "    \n",
    "    \n",
    "    X = []\n",
    "    y = []\n",
    "\n",
    "    # Open file\n",
    "    with open('tic-tac-toe.data') as csvfile:\n",
    "        reader = csv.reader(csvfile, delimiter=',')\n",
    "\n",
    "        # Read each line and translate\n",
    "        for row in reader:\n",
    "\n",
    "            # Translate features to floats\n",
    "            features = []\n",
    "            for i in range(9):\n",
    "                feature = FeatureTranslationDict[row[i]]\n",
    "                features.append(feature)\n",
    "\n",
    "            label = FeatureTranslationDict[row[9]]\n",
    "\n",
    "            X.append(features)\n",
    "            y.append(label)\n",
    "\n",
    "    X = np.array(X)\n",
    "    y = np.array(y)\n",
    "    \n",
    "    return X, y"
   ]
  },
  {
   "cell_type": "code",
   "execution_count": 3,
   "metadata": {},
   "outputs": [
    {
     "name": "stdout",
     "output_type": "stream",
     "text": [
      "766\n",
      "192\n"
     ]
    }
   ],
   "source": [
    "# Data set\n",
    "X, y = load_tic_tac_toe()\n",
    "\n",
    "# Split the training set\n",
    "train_X, test_X, train_y, test_y = train_test_split(X, y, shuffle=True, test_size=0.20)\n",
    "print(len(train_X))\n",
    "print(len(test_X))"
   ]
  },
  {
   "cell_type": "code",
   "execution_count": 4,
   "metadata": {},
   "outputs": [],
   "source": [
    "# Write training data\n",
    "with open('tic-tac-toe-train.data', 'w') as csvfile:\n",
    "    writer = csv.writer(csvfile, delimiter=',')\n",
    "    \n",
    "    for i, x in enumerate(train_X.tolist()):\n",
    "        writer.writerow(x + [train_y[i]])"
   ]
  },
  {
   "cell_type": "code",
   "execution_count": 5,
   "metadata": {},
   "outputs": [],
   "source": [
    "# Write training data\n",
    "with open('tic-tac-toe-test.data', 'w') as csvfile:\n",
    "    writer = csv.writer(csvfile, delimiter=',')\n",
    "    \n",
    "    for i, x in enumerate(test_X.tolist()):\n",
    "        writer.writerow(x + [test_y[i]])"
   ]
  },
  {
   "cell_type": "code",
   "execution_count": null,
   "metadata": {},
   "outputs": [],
   "source": []
  }
 ],
 "metadata": {
  "kernelspec": {
   "display_name": "Python 3",
   "language": "python",
   "name": "python3"
  },
  "language_info": {
   "codemirror_mode": {
    "name": "ipython",
    "version": 3
   },
   "file_extension": ".py",
   "mimetype": "text/x-python",
   "name": "python",
   "nbconvert_exporter": "python",
   "pygments_lexer": "ipython3",
   "version": "3.6.8"
  }
 },
 "nbformat": 4,
 "nbformat_minor": 2
}
